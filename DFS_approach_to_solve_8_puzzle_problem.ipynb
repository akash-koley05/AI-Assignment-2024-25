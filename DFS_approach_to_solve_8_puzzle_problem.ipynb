{
  "nbformat": 4,
  "nbformat_minor": 0,
  "metadata": {
    "colab": {
      "provenance": [],
      "authorship_tag": "ABX9TyPydE1Hsh2HmHicuxJPa8gD",
      "include_colab_link": true
    },
    "kernelspec": {
      "name": "python3",
      "display_name": "Python 3"
    },
    "language_info": {
      "name": "python"
    }
  },
  "cells": [
    {
      "cell_type": "markdown",
      "metadata": {
        "id": "view-in-github",
        "colab_type": "text"
      },
      "source": [
        "<a href=\"https://colab.research.google.com/github/akash-koley05/AI-Assignment-2024-25/blob/main/DFS_approach_to_solve_8_puzzle_problem.ipynb\" target=\"_parent\"><img src=\"https://colab.research.google.com/assets/colab-badge.svg\" alt=\"Open In Colab\"/></a>"
      ]
    },
    {
      "cell_type": "code",
      "execution_count": null,
      "metadata": {
        "id": "oEoWWlzA4sWW"
      },
      "outputs": [],
      "source": [
        "class Puzzle:\n",
        "    def __init__(self, start_state, goal_state):\n",
        "        self.start_state = start_state\n",
        "        self.goal_state = goal_state\n",
        "        self.visited = set()\n",
        "        self.stack = [(start_state, [])]  # (current_state, path_to_state)\n",
        "\n",
        "    def get_possible_moves(self, state):\n",
        "        moves = []\n",
        "        zero_pos = state.index(0)\n",
        "        row, col = zero_pos // 3, zero_pos % 3\n",
        "\n",
        "        # Movement directions (row, col) -> (up, down, left, right)\n",
        "        directions = [(-1, 0), (1, 0), (0, -1), (0, 1)]\n",
        "\n",
        "        for dr, dc in directions:\n",
        "            new_row, new_col = row + dr, col + dc\n",
        "            if 0 <= new_row < 3 and 0 <= new_col < 3:\n",
        "                new_zero_pos = new_row * 3 + new_col\n",
        "                new_state = list(state)\n",
        "                new_state[zero_pos], new_state[new_zero_pos] = new_state[new_zero_pos], new_state[zero_pos]\n",
        "                moves.append(new_state)\n",
        "\n",
        "        return moves\n",
        "\n",
        "    def dfs(self):\n",
        "        while self.stack:\n",
        "            current_state, path = self.stack.pop()\n",
        "            if tuple(current_state) in self.visited:\n",
        "                continue\n",
        "            self.visited.add(tuple(current_state))\n",
        "\n",
        "            # If goal state is reached\n",
        "            if current_state == self.goal_state:\n",
        "                return path + [current_state]\n",
        "\n",
        "            # Explore possible moves\n",
        "            for move in self.get_possible_moves(current_state):\n",
        "                self.stack.append((move, path + [current_state]))\n",
        "\n",
        "        return None  # If no solution is found\n",
        "\n",
        "# Initial and goal state\n",
        "start_state = [1, 2, 6, 3, 8, 4, 5, 0, 7]  # The 0 represents the blank tile\n",
        "goal_state = [1, 2, 3, 4, 5, 6, 7, 8, 0]\n",
        "\n",
        "# Create Puzzle object and solve using DFS\n",
        "puzzle = Puzzle(start_state, goal_state)\n",
        "solution = puzzle.dfs()\n",
        "\n",
        "if solution:\n",
        "    print(\"Solution found!\")\n",
        "    for step in solution:\n",
        "        for i in range(3):\n",
        "            print(step[i * 3: (i + 1) * 3])\n",
        "        print()\n",
        "else:\n",
        "    print(\"No solution found.\")\n"
      ]
    }
  ]
}