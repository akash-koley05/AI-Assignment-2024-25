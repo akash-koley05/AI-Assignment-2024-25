{
  "nbformat": 4,
  "nbformat_minor": 0,
  "metadata": {
    "colab": {
      "provenance": [],
      "authorship_tag": "ABX9TyOQeEzMkfsQqhED43Z2rapR",
      "include_colab_link": true
    },
    "kernelspec": {
      "name": "python3",
      "display_name": "Python 3"
    },
    "language_info": {
      "name": "python"
    }
  },
  "cells": [
    {
      "cell_type": "markdown",
      "metadata": {
        "id": "view-in-github",
        "colab_type": "text"
      },
      "source": [
        "<a href=\"https://colab.research.google.com/github/akash-koley05/AI-Assignment-2024-25/blob/main/DFS_Implementation_using_an_Iterative_Approach.ipynb\" target=\"_parent\"><img src=\"https://colab.research.google.com/assets/colab-badge.svg\" alt=\"Open In Colab\"/></a>"
      ]
    },
    {
      "cell_type": "code",
      "execution_count": 4,
      "metadata": {
        "colab": {
          "base_uri": "https://localhost:8080/"
        },
        "id": "oEoWWlzA4sWW",
        "outputId": "63556b1a-1d78-41b1-f864-bc6bc18b8ef2"
      },
      "outputs": [
        {
          "output_type": "stream",
          "name": "stdout",
          "text": [
            "A B D E H C F G "
          ]
        }
      ],
      "source": [
        "def dfs_iterative(graph, start):\n",
        "    visited = set()\n",
        "    stack = [start]\n",
        "\n",
        "    while stack:\n",
        "        # Pop a vertex from the stack\n",
        "        node = stack.pop()\n",
        "\n",
        "        # If not visited, visit the node\n",
        "        if node not in visited:\n",
        "            print(node, end=' ')\n",
        "            visited.add(node)\n",
        "\n",
        "            # Push all unvisited neighbors to the stack\n",
        "            for neighbor in reversed(graph[node]):  # Reversed to maintain order like recursion\n",
        "                if neighbor not in visited:\n",
        "                    stack.append(neighbor)\n",
        "\n",
        "# Example usage:\n",
        "dfs_iterative(graph, 'A')\n",
        "\n"
      ]
    }
  ]
}